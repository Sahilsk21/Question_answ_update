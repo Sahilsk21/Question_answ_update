{
 "cells": [
  {
   "cell_type": "code",
   "execution_count": 1,
   "metadata": {},
   "outputs": [
    {
     "name": "stderr",
     "output_type": "stream",
     "text": [
      "/home/sahil/Question_Answ/question/lib/python3.11/site-packages/tqdm/auto.py:21: TqdmWarning: IProgress not found. Please update jupyter and ipywidgets. See https://ipywidgets.readthedocs.io/en/stable/user_install.html\n",
      "  from .autonotebook import tqdm as notebook_tqdm\n"
     ]
    }
   ],
   "source": [
    "import os \n",
    "from langchain_google_genai import ChatGoogleGenerativeAI\n",
    "\n",
    "from langchain.prompts import PromptTemplate\n",
    "from langchain.chains import LLMChain\n",
    "from langchain.chains import SequentialChain\n",
    "from langchain.callbacks import get_openai_callback\n",
    "import json\n",
    "import pandas as pd\n",
    "import traceback \n",
    "import PyPDF2"
   ]
  },
  {
   "cell_type": "code",
   "execution_count": 2,
   "metadata": {},
   "outputs": [],
   "source": [
    "## in this project i use gemini \n",
    "\n",
    "llm = ChatGoogleGenerativeAI(model=\"gemini-1.5-flash\", google_api_key=\"\")"
   ]
  },
  {
   "cell_type": "code",
   "execution_count": 20,
   "metadata": {},
   "outputs": [],
   "source": [
    "RESPONSE_JSON = {\n",
    "   \"1\": {\n",
    "        \"question\": \"Explain the impact of the Industrial Revolution on modern society.\",\n",
    "        \"marks\": 5,\n",
    "        \"expected_answer\": {\n",
    "            \"key_points\": [\n",
    "                \"Technological advancements\",\n",
    "                \"Economic changes\",\n",
    "                \"Social changes\",\n",
    "                \"Urbanization\",\n",
    "                \"Long-term effects on modern society\"\n",
    "            ],\n",
    "            \"length\": \"150-200 words\",\n",
    "            \"answer_template\": \"The Industrial Revolution had a profound impact on modern society. Technological advancements led to increased productivity and the growth of industries. Economically, it shifted societies from agrarian economies to industrial powerhouses, which in turn caused social changes, including the rise of the working class. Urbanization increased as people moved to cities for jobs, and these changes have had lasting effects on contemporary economies and societal structures.\"\n",
    "        }\n",
    "    },\n",
    "   \"2\": {\n",
    "        \"question\": \"Explain the impact of the Industrial Revolution on modern society.\",\n",
    "        \"marks\": 5,\n",
    "        \"expected_answer\": {\n",
    "            \"key_points\": [\n",
    "                \"Technological advancements\",\n",
    "                \"Economic changes\",\n",
    "                \"Social changes\",\n",
    "                \"Urbanization\",\n",
    "                \"Long-term effects on modern society\"\n",
    "            ],\n",
    "            \"length\": \"150-200 words\",\n",
    "            \"answer_template\": \"The Industrial Revolution had a profound impact on modern society. Technological advancements led to increased productivity and the growth of industries. Economically, it shifted societies from agrarian economies to industrial powerhouses, which in turn caused social changes, including the rise of the working class. Urbanization increased as people moved to cities for jobs, and these changes have had lasting effects on contemporary economies and societal structures.\"\n",
    "        }\n",
    "   },\n",
    "   \"3\": {\n",
    "        \"question\": \"Explain the impact of the Industrial Revolution on modern society.\",\n",
    "        \"marks\": 5,\n",
    "        \"expected_answer\": {\n",
    "            \"key_points\": [\n",
    "                \"Technological advancements\",\n",
    "                \"Economic changes\",\n",
    "                \"Social changes\",\n",
    "                \"Urbanization\",\n",
    "                \"Long-term effects on modern society\"\n",
    "            ],\n",
    "            \"length\": \"150-200 words\",\n",
    "            \"answer_template\": \"The Industrial Revolution had a profound impact on modern society. Technological advancements led to increased productivity and the growth of industries. Economically, it shifted societies from agrarian economies to industrial powerhouses, which in turn caused social changes, including the rise of the working class. Urbanization increased as people moved to cities for jobs, and these changes have had lasting effects on contemporary economies and societal structures.\"\n",
    "        }\n",
    "    }\n",
    "   \n",
    "}"
   ]
  },
  {
   "cell_type": "code",
   "execution_count": 34,
   "metadata": {},
   "outputs": [],
   "source": [
    "## this template 1 \n",
    "TEMPLATE=\"\"\"Text: {text}\n",
    "You are an expert in creating detailed 5-mark questions and answers. Given the above text, your task is to create a quiz consisting of {number} 5-mark questions and answers for {subject} students in a {tone} tone.\n",
    "Ensure that:\n",
    "1. The questions are well-differentiated and not repeated.\n",
    "2. The questions are directly relevant to the provided text.\n",
    "3. Each answer contains key points, an expected length, and follows a clear structure.\n",
    "4. Evaluation criteria for full and partial marks are included, along with feedback for each score level.\n",
    "\n",
    "Format your response like the RESPONSE_JSON below and use it as a guide. Ensure you create {number} 5-mark questions and answers.\n",
    "\n",
    "### RESPONSE_JSON\"\n",
    "{RESPONSE_JSON}\n",
    "\"\"\"\n",
    "TEMPLATE2=\"\"\"\n",
    "You are an expert english grammarian and writer. Given a Long Question and Answer Quiz for {subject} students.\\\n",
    "You need to evaluate the complexity of the question and give a complete analysis of the quiz. Only use at max 70 words for complexity analysis.\n",
    "if the quiz is not at per with the cognitive and analytical abilities of the students,\\\n",
    "update the quiz questions which needs to be changed and change the tone such that it perfectly fits the student abilities\n",
    "Quiz_Long Question and Answer:\n",
    "{quiz}\n",
    "\n",
    "Check from an expert English Writer of the above quiz:\n",
    "\"\"\""
   ]
  },
  {
   "cell_type": "code",
   "execution_count": 22,
   "metadata": {},
   "outputs": [],
   "source": [
    "## create the prompt \n",
    "\n",
    "quiz_generation_prompt=PromptTemplate(\n",
    "    input_variables=[\"text\", \"number\", \"subject\", \"tone\", \"response_json\"],\n",
    "    template=TEMPLATE\n",
    ") \n",
    "\n",
    "## now create a chain for prompt one \n",
    "\n",
    "llm_chain1=LLMChain(llm=llm,prompt=quiz_generation_prompt,output_key=\"quiz\")"
   ]
  },
  {
   "cell_type": "code",
   "execution_count": 35,
   "metadata": {},
   "outputs": [],
   "source": [
    "## create prompt for second template \n",
    "\n",
    "quiz_evaluation_prompt=PromptTemplate(\n",
    "    input_variables=[\"subject\",\"quiz\"],\n",
    "    template=TEMPLATE2\n",
    ") \n",
    "\n",
    "review_chain=LLMChain(llm=llm,prompt=quiz_evaluation_prompt,output_key=\"review\") "
   ]
  },
  {
   "cell_type": "code",
   "execution_count": 36,
   "metadata": {},
   "outputs": [],
   "source": [
    "## now use squentail chain \n",
    "\n",
    "generate_evaluate_chain=SequentialChain(chains=[llm_chain1, review_chain], input_variables=[\"text\", \"number\", \"subject\", \"tone\", \"response_json\"],\n",
    "                                        output_variables=[\"quiz\", \"review\"])"
   ]
  },
  {
   "cell_type": "code",
   "execution_count": 37,
   "metadata": {},
   "outputs": [],
   "source": [
    "## now test our model \n",
    "file_path=\"/home/sahil/Question_Answ/data.txt\"\n",
    "with open(file_path, 'r') as file:\n",
    "    TEXT = file.read()"
   ]
  },
  {
   "cell_type": "code",
   "execution_count": 38,
   "metadata": {},
   "outputs": [],
   "source": [
    "NUMBER=2\n",
    "SUBJECT=\"Mechin learning\"\n",
    "TONE=\"simple\""
   ]
  },
  {
   "cell_type": "code",
   "execution_count": 39,
   "metadata": {},
   "outputs": [],
   "source": [
    "response=generate_evaluate_chain(\n",
    "        {\n",
    "            \"text\": TEXT,\n",
    "            \"number\": NUMBER,\n",
    "            \"subject\":SUBJECT,\n",
    "            \"tone\": TONE,\n",
    "            \"response_json\": json.dumps(RESPONSE_JSON)\n",
    "        }\n",
    "        )"
   ]
  },
  {
   "cell_type": "code",
   "execution_count": 40,
   "metadata": {},
   "outputs": [],
   "source": [
    "quiz=response.get(\"quiz\")"
   ]
  },
  {
   "cell_type": "code",
   "execution_count": 41,
   "metadata": {},
   "outputs": [
    {
     "data": {
      "text/plain": [
       "'### RESPONSE_JSON\\n{\"1\": {\"question\": \"Explain the evolution of machine learning from its early days to modern times. How did the field\\'s goals and approaches change over time?\", \"marks\": 5, \"expected_answer\": {\"key_points\": [\"Early days focused on mimicking human cognitive processes\", \"Shift from symbolic methods to statistical and probabilistic approaches\", \"Focus shifted from achieving artificial intelligence to solving practical problems\", \"Rise of deep learning and its impact on various fields\"], \"length\": \"150-200 words\", \"answer_template\": \"Machine learning\\'s journey has been one of evolution. Initially, it aimed to emulate human cognition, employing symbolic methods and neural networks inspired by the brain. However, the field faced challenges with data acquisition and representation, leading to a shift towards statistical and probabilistic methods. The focus then moved from achieving general AI to tackling practical problems like pattern recognition and information retrieval. The 1990s saw machine learning flourish as its own field, borrowing techniques from statistics and fuzzy logic. The advent of deep learning, with its multi-layered neural networks, revolutionized machine learning, enabling breakthroughs in areas like computer vision and speech recognition.\"}}, \"2\": {\"question\": \"Explain the concept of \\'generalization\\' in machine learning. How is it related to the bias-variance trade-off, and what are the implications for model performance?\", \"marks\": 5, \"expected_answer\": {\"key_points\": [\"Generalization is the ability of a model to perform well on unseen data\", \"Bias-variance trade-off: a balance between underfitting and overfitting\", \"Underfitting: model is too simple and cannot capture the data\\'s complexity\", \"Overfitting: model is too complex and memorizes the training data, leading to poor generalization\", \"Optimal model complexity: finding the sweet spot between bias and variance for good generalization\"], \"length\": \"150-200 words\", \"answer_template\": \"Generalization in machine learning refers to a model\\'s ability to perform well on new, unseen data after being trained on a specific dataset. The bias-variance trade-off plays a crucial role in generalization. Underfitting occurs when a model is too simple and cannot capture the underlying patterns in the data, resulting in high bias. Conversely, overfitting happens when a model is too complex and memorizes the training data, leading to poor performance on unseen data (high variance). The goal is to find the optimal model complexity that balances bias and variance, resulting in good generalization and robust performance on both training and unseen data.\"}}} \\n'"
      ]
     },
     "execution_count": 41,
     "metadata": {},
     "output_type": "execute_result"
    }
   ],
   "source": [
    "quiz"
   ]
  },
  {
   "cell_type": "code",
   "execution_count": 42,
   "metadata": {},
   "outputs": [],
   "source": [
    "quiz=quiz.split(\"### RESPONSE_JSON\\n\")[1] "
   ]
  },
  {
   "cell_type": "code",
   "execution_count": 31,
   "metadata": {},
   "outputs": [
    {
     "data": {
      "text/plain": [
       "'{\"1\": {\"question\": \"Explain the historical development of machine learning, highlighting key milestones and the evolution of its focus.\", \"marks\": 5, \"expected_answer\": {\"key_points\": [\"Arthur Samuel\\'s coining of the term in 1959\", \"Early models like Samuel\\'s checkers program\", \"Influence of research on human cognitive processes (Hebb, Pitts, McCulloch)\", \"Development of \\'learning machines\\' like Cybertron\", \"Shift in focus from AI to practical problems in the 1990s\", \"Emphasis on statistical and probabilistic methods\"], \"length\": \"150-200 words\", \"answer_template\": \"Machine learning has a rich history dating back to the 1950s when Arthur Samuel coined the term and developed a checkers program demonstrating early learning capabilities. Inspired by research on human cognition, early work focused on understanding and mimicking human thought processes. The development of \\'learning machines\\' like Cybertron in the 1960s furthered this exploration. However, by the 1990s, machine learning shifted its focus from achieving artificial intelligence to tackling practical problems. This shift led to a greater emphasis on statistical and probabilistic methods, drawing inspiration from fields like statistics, fuzzy logic, and probability theory.\"}}, \"2\": {\"question\": \"Describe the different types of machine learning approaches, providing examples and outlining their key characteristics.\", \"marks\": 5, \"expected_answer\": {\"key_points\": [\"Supervised learning: learning from labeled data, examples: classification, regression\", \"Unsupervised learning: finding patterns in unlabeled data, examples: clustering, dimensionality reduction\", \"Reinforcement learning: learning through trial and error and rewards, examples: game playing, robotics\", \"Semi-supervised learning: combining labeled and unlabeled data\", \"Self-learning: learning without external rewards or supervision\"], \"length\": \"150-200 words\", \"answer_template\": \"Machine learning encompasses various approaches, each with distinct characteristics. Supervised learning involves training models on labeled data, where the desired output is known, such as in classification and regression tasks. Unsupervised learning, on the other hand, explores patterns in unlabeled data, examples being clustering and dimensionality reduction. Reinforcement learning focuses on learning through trial and error, where agents receive rewards for desired actions, commonly used in game playing and robotics. Semi-supervised learning leverages both labeled and unlabeled data to improve accuracy. Finally, self-learning allows models to learn without external rewards or supervision, relying on internal feedback mechanisms.\"}}} \\n'"
      ]
     },
     "execution_count": 31,
     "metadata": {},
     "output_type": "execute_result"
    }
   ],
   "source": []
  },
  {
   "cell_type": "code",
   "execution_count": 43,
   "metadata": {},
   "outputs": [],
   "source": [
    "quiz=json.loads(quiz)"
   ]
  },
  {
   "cell_type": "code",
   "execution_count": 46,
   "metadata": {},
   "outputs": [
    {
     "name": "stdout",
     "output_type": "stream",
     "text": [
      "Explain the evolution of machine learning from its early days to modern times. How did the field's goals and approaches change over time?\n",
      "\n",
      "Explain the concept of 'generalization' in machine learning. How is it related to the bias-variance trade-off, and what are the implications for model performance?\n",
      "\n"
     ]
    }
   ],
   "source": [
    "quiz_table_data = []\n",
    "for key, value in quiz.items():\n",
    "    saq=value[\"question\"] \n",
    "    print(saq)\n",
    "    print(\"\")\n",
    "    k=(value[\"expected_answer\"][\"key_points\"])\n",
    "    quiz_table_data.append({\"question\": saq,  \"Answer\": k})"
   ]
  },
  {
   "cell_type": "code",
   "execution_count": 48,
   "metadata": {},
   "outputs": [],
   "source": [
    "quiz=pd.DataFrame(quiz_table_data)"
   ]
  },
  {
   "cell_type": "code",
   "execution_count": 49,
   "metadata": {},
   "outputs": [],
   "source": [
    "quiz.to_csv(\"5ml.csv\",index=False)"
   ]
  },
  {
   "cell_type": "code",
   "execution_count": null,
   "metadata": {},
   "outputs": [],
   "source": []
  }
 ],
 "metadata": {
  "kernelspec": {
   "display_name": "question",
   "language": "python",
   "name": "python3"
  },
  "language_info": {
   "codemirror_mode": {
    "name": "ipython",
    "version": 3
   },
   "file_extension": ".py",
   "mimetype": "text/x-python",
   "name": "python",
   "nbconvert_exporter": "python",
   "pygments_lexer": "ipython3",
   "version": "3.11.7"
  }
 },
 "nbformat": 4,
 "nbformat_minor": 2
}
