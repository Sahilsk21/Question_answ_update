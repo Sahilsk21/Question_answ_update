{
 "cells": [
  {
   "cell_type": "code",
   "execution_count": 11,
   "metadata": {},
   "outputs": [],
   "source": [
    "import os \n",
    "from langchain_google_genai import ChatGoogleGenerativeAI\n",
    "from soucre_code.question_generator.utils import read_file\n",
    "from langchain.prompts import PromptTemplate\n",
    "from langchain.chains import LLMChain\n",
    "from langchain.chains import SequentialChain\n",
    "from langchain.callbacks import get_openai_callback\n",
    "import json\n",
    "import pandas as pd\n",
    "import traceback \n",
    "import PyPDF2"
   ]
  },
  {
   "cell_type": "code",
   "execution_count": 12,
   "metadata": {},
   "outputs": [],
   "source": [
    "## in this project i use gemini \n",
    "\n",
    "llm = ChatGoogleGenerativeAI(model=\"gemini-1.5-flash\", google_api_key=\"\")"
   ]
  },
  {
   "cell_type": "code",
   "execution_count": 13,
   "metadata": {},
   "outputs": [],
   "source": [
    "RESPONSE_JSON = {\n",
    "   \"1\": {\n",
    "        \"saq\": \"Explain the process of photosynthesis in plants.\",\n",
    "        \"expected_answer\": {\n",
    "            \"key_points\": [\n",
    "                \"Chlorophyll absorbs sunlight\",\n",
    "                \"Conversion of carbon dioxide and water\",\n",
    "                \"Production of glucose and oxygen\"\n",
    "            ],\n",
    "            \"length\": \"10-20 words\"\n",
    "        } \n",
    "   },\n",
    "   \"2\": {\n",
    "        \"saq\": \"Explain the process of photosynthesis in plants.\",\n",
    "        \"expected_answer\": {\n",
    "            \"key_points\": [\n",
    "                \"Chlorophyll absorbs sunlight\",\n",
    "                \"Conversion of carbon dioxide and water\",\n",
    "                \"Production of glucose and oxygen\"\n",
    "            ],\n",
    "            \"length\": \"10-20 words\"\n",
    "        } \n",
    "   },\n",
    "   \"3\": {\n",
    "        \"saq\": \"Explain the process of photosynthesis in plants.\",\n",
    "        \"expected_answer\": {\n",
    "            \"key_points\": [\n",
    "                \"Chlorophyll absorbs sunlight\",\n",
    "                \"Conversion of carbon dioxide and water\",\n",
    "                \"Production of glucose and oxygen\"\n",
    "            ],\n",
    "            \"length\": \"10-20 words\"\n",
    "        } \n",
    "   }\n",
    "   \n",
    "}"
   ]
  },
  {
   "cell_type": "code",
   "execution_count": 14,
   "metadata": {},
   "outputs": [],
   "source": [
    "## this template 1 \n",
    "TEMPLATE=\"\"\"\n",
    "Text:{text}\n",
    "You are an expert SAQ maker. Given the above text, it is your job to \\\n",
    "create a quiz  of {number} Short Answer Question  for {subject} students in {tone} tone.\n",
    "Make sure the questions are not repeated and check all the questions to be conforming the text as well.\n",
    "Make sure to format your response like  RESPONSE_JSON below  and use it as a guide. \\\n",
    "Ensure to make {number} SAQ\n",
    "### RESPONSE_JSON\n",
    "{response_json}\n",
    "\n",
    "\"\"\" \n",
    "TEMPLATE2=\"\"\"\n",
    "You are an expert english grammarian and writer. Given a Short Answer Question Quiz for {subject} students.\\\n",
    "You need to evaluate the complexity of the question and give a complete analysis of the quiz. Only use at max 50 words for complexity analysis.\n",
    "if the quiz is not at per with the cognitive and analytical abilities of the students,\\\n",
    "update the quiz questions which needs to be changed and change the tone such that it perfectly fits the student abilities\n",
    "Quiz_SAQ:\n",
    "{quiz}\n",
    "\n",
    "Check from an expert English Writer of the above quiz:\n",
    "\"\"\""
   ]
  },
  {
   "cell_type": "code",
   "execution_count": 15,
   "metadata": {},
   "outputs": [],
   "source": [
    "## create the prompt \n",
    "\n",
    "quiz_generation_prompt=PromptTemplate(\n",
    "    input_variables=[\"text\", \"number\", \"subject\", \"tone\", \"response_json\"],\n",
    "    template=TEMPLATE\n",
    ") \n",
    "\n",
    "## now create a chain for prompt one \n",
    "\n",
    "llm_chain1=LLMChain(llm=llm,prompt=quiz_generation_prompt,output_key=\"quiz\")"
   ]
  },
  {
   "cell_type": "code",
   "execution_count": 16,
   "metadata": {},
   "outputs": [],
   "source": [
    "## create prompt for second template \n",
    "\n",
    "quiz_evaluation_prompt=PromptTemplate(\n",
    "    input_variables=[\"subject\",\"quiz\"],\n",
    "    template=TEMPLATE2\n",
    ") \n",
    "\n",
    "review_chain=LLMChain(llm=llm,prompt=quiz_evaluation_prompt,output_key=\"review\") "
   ]
  },
  {
   "cell_type": "code",
   "execution_count": 17,
   "metadata": {},
   "outputs": [],
   "source": [
    "## now use squentail chain \n",
    "\n",
    "generate_evaluate_chain_saq=SequentialChain(chains=[llm_chain1, review_chain], input_variables=[\"text\", \"number\", \"subject\", \"tone\", \"response_json\"],\n",
    "                                        output_variables=[\"quiz\", \"review\"])"
   ]
  },
  {
   "cell_type": "code",
   "execution_count": 18,
   "metadata": {},
   "outputs": [
    {
     "ename": "AttributeError",
     "evalue": "'str' object has no attribute 'name'",
     "output_type": "error",
     "traceback": [
      "\u001b[0;31m---------------------------------------------------------------------------\u001b[0m",
      "\u001b[0;31mAttributeError\u001b[0m                            Traceback (most recent call last)",
      "Cell \u001b[0;32mIn[18], line 5\u001b[0m\n\u001b[1;32m      2\u001b[0m file_path\u001b[38;5;241m=\u001b[39m\u001b[38;5;124m\"\u001b[39m\u001b[38;5;124m/home/sahil/Question_Answ/data.txt\u001b[39m\u001b[38;5;124m\"\u001b[39m\n\u001b[1;32m      3\u001b[0m \u001b[38;5;66;03m# with open(file_path, 'r') as file:\u001b[39;00m\n\u001b[1;32m      4\u001b[0m \u001b[38;5;66;03m#     TEXT = file.read()\u001b[39;00m\n\u001b[0;32m----> 5\u001b[0m TEXT\u001b[38;5;241m=\u001b[39m\u001b[43mread_file\u001b[49m\u001b[43m(\u001b[49m\u001b[43mfile_path\u001b[49m\u001b[43m)\u001b[49m\n",
      "File \u001b[0;32m~/Question_Answ/soucre_code/question_generator/utils.py:8\u001b[0m, in \u001b[0;36mread_file\u001b[0;34m(file)\u001b[0m\n\u001b[1;32m      7\u001b[0m \u001b[38;5;28;01mdef\u001b[39;00m \u001b[38;5;21mread_file\u001b[39m(file):\n\u001b[0;32m----> 8\u001b[0m     \u001b[38;5;28;01mif\u001b[39;00m \u001b[43mfile\u001b[49m\u001b[38;5;241;43m.\u001b[39;49m\u001b[43mname\u001b[49m\u001b[38;5;241m.\u001b[39mendswith(\u001b[38;5;124m\"\u001b[39m\u001b[38;5;124m.pdf\u001b[39m\u001b[38;5;124m\"\u001b[39m):\n\u001b[1;32m      9\u001b[0m         \u001b[38;5;28;01mtry\u001b[39;00m:\n\u001b[1;32m     10\u001b[0m             pdf_reader\u001b[38;5;241m=\u001b[39mPyPDF2\u001b[38;5;241m.\u001b[39mPdfFileReader(file)\n",
      "\u001b[0;31mAttributeError\u001b[0m: 'str' object has no attribute 'name'"
     ]
    }
   ],
   "source": [
    "## now test our model \n",
    "file_path=\"/home/sahil/Question_Answ/data.txt\"\n",
    "# with open(file_path, 'r') as file:\n",
    "#     TEXT = file.read()\n",
    "TEXT=read_file(file_path)"
   ]
  },
  {
   "cell_type": "code",
   "execution_count": 9,
   "metadata": {},
   "outputs": [],
   "source": [
    "NUMBER=4\n",
    "SUBJECT=\"Mechin learning\"\n",
    "TONE=\"simple\""
   ]
  },
  {
   "cell_type": "code",
   "execution_count": 10,
   "metadata": {},
   "outputs": [
    {
     "name": "stderr",
     "output_type": "stream",
     "text": [
      "/home/sahil/Question_Answ/question/lib/python3.11/site-packages/langchain_core/_api/deprecation.py:151: LangChainDeprecationWarning: The method `Chain.__call__` was deprecated in langchain 0.1.0 and will be removed in 1.0. Use invoke instead.\n",
      "  warn_deprecated(\n"
     ]
    }
   ],
   "source": [
    "response=generate_evaluate_chain_saq(\n",
    "        {\n",
    "            \"text\": TEXT,\n",
    "            \"number\": NUMBER,\n",
    "            \"subject\":SUBJECT,\n",
    "            \"tone\": TONE,\n",
    "            \"response_json\": json.dumps(RESPONSE_JSON)\n",
    "        }\n",
    "        )"
   ]
  },
  {
   "cell_type": "code",
   "execution_count": 64,
   "metadata": {},
   "outputs": [],
   "source": [
    "quiz=response.get(\"quiz\")\n",
    "# response"
   ]
  },
  {
   "cell_type": "code",
   "execution_count": 65,
   "metadata": {},
   "outputs": [
    {
     "data": {
      "text/plain": [
       "'{\"1\": {\"saq\": \"What is the difference between supervised and unsupervised learning in machine learning?\", \"expected_answer\": {\"key_points\": [\"Supervised learning uses labeled data to train models, while unsupervised learning uses unlabeled data to find patterns.\", \"Supervised learning focuses on prediction, while unsupervised learning focuses on discovering hidden structures in data.\"], \"length\": \"20-30 words\"}}, \"2\": {\"saq\": \"What are the two main objectives of modern-day machine learning?\", \"expected_answer\": {\"key_points\": [\"Classifying data based on developed models.\", \"Making predictions for future outcomes based on these models.\"], \"length\": \"10-20 words\"}}, \"3\": {\"saq\": \"What is the main difference between machine learning and statistics?\", \"expected_answer\": {\"key_points\": [\"Statistics draws population inferences from a sample, while machine learning finds generalizable predictive patterns.\"], \"length\": \"10-20 words\"}}, \"4\": {\"saq\": \"What is feature learning in machine learning, and what are its advantages?\", \"expected_answer\": {\"key_points\": [\"Feature learning discovers better representations of input data, often as a pre-processing step.\", \"It automates feature engineering, allowing machines to learn features and use them for specific tasks.\"], \"length\": \"20-30 words\"}}} \\n'"
      ]
     },
     "execution_count": 65,
     "metadata": {},
     "output_type": "execute_result"
    }
   ],
   "source": [
    "quiz=quiz.split(\"### RESPONSE_JSON\\n\")[1] \n",
    "# quiz.split('```json\\n')\n",
    "quiz"
   ]
  },
  {
   "cell_type": "code",
   "execution_count": 66,
   "metadata": {},
   "outputs": [],
   "source": [
    "quiz=json.loads(quiz)"
   ]
  },
  {
   "cell_type": "code",
   "execution_count": 16,
   "metadata": {},
   "outputs": [
    {
     "data": {
      "text/plain": [
       "LLMChain(prompt=PromptTemplate(input_variables=['number', 'response_json', 'subject', 'text', 'tone'], template='\\nText:{text}\\nYou are an expert SAQ maker. Given the above text, it is your job to create a quiz  of {number} Short Answer Question  for {subject} students in {tone} tone.\\nMake sure the questions are not repeated and check all the questions to be conforming the text as well.\\nMake sure to format your response like  RESPONSE_JSON below  and use it as a guide. Ensure to make {number} SAQ\\n### RESPONSE_JSON\\n{response_json}\\n\\n'), llm=ChatGoogleGenerativeAI(model='models/gemini-1.5-flash', google_api_key=SecretStr('**********'), client=<google.ai.generativelanguage_v1beta.services.generative_service.client.GenerativeServiceClient object at 0x79ae40d22950>, async_client=<google.ai.generativelanguage_v1beta.services.generative_service.async_client.GenerativeServiceAsyncClient object at 0x79ae3652e710>, default_metadata=()), output_key='quiz')"
      ]
     },
     "execution_count": 16,
     "metadata": {},
     "output_type": "execute_result"
    }
   ],
   "source": [
    "llm_chain1"
   ]
  },
  {
   "cell_type": "code",
   "execution_count": 56,
   "metadata": {},
   "outputs": [
    {
     "data": {
      "text/plain": [
       "{'1': {'saq': 'What is the difference between supervised learning and unsupervised learning in machine learning?',\n",
       "  'expected_answer': {'key_points': ['Supervised learning uses labeled data, unsupervised learning uses unlabeled data'],\n",
       "   'length': '10-20 words'}},\n",
       " '2': {'saq': 'What are the two main objectives of modern-day machine learning?',\n",
       "  'expected_answer': {'key_points': ['Classifying data based on developed models',\n",
       "    'Making predictions for future outcomes'],\n",
       "   'length': '10-20 words'}},\n",
       " '3': {'saq': \"What is the concept of 'generalization' in machine learning, and why is it important?\",\n",
       "  'expected_answer': {'key_points': ['Ability of a learning machine to perform accurately on new, unseen examples',\n",
       "    'Important for the model to be applicable to real-world scenarios'],\n",
       "   'length': '20-30 words'}},\n",
       " '4': {'saq': 'What is the key difference between machine learning and data mining, despite their overlapping methods?',\n",
       "  'expected_answer': {'key_points': ['Machine learning focuses on prediction, data mining focuses on discovering unknown properties'],\n",
       "   'length': '10-20 words'}}}"
      ]
     },
     "execution_count": 56,
     "metadata": {},
     "output_type": "execute_result"
    }
   ],
   "source": [
    "# quiz_table_data = []\n",
    "# for key, value in quiz.items():\n",
    "#     mcq = value[\"saq\"]\n",
    "#     options = \" | \".join(\n",
    "#         [\n",
    "#             f\"{option}: {option_value}\"\n",
    "#             for option, option_value in value[\"options\"].items()\n",
    "#             ]\n",
    "#         )\n",
    "#     correct = value[\"correct\"]\n",
    "#     quiz_table_data.append({\"MCQ\": mcq, \"Choices\": options, \"Correct\": correct}) \n",
    "quiz"
   ]
  },
  {
   "cell_type": "code",
   "execution_count": 70,
   "metadata": {},
   "outputs": [
    {
     "name": "stdout",
     "output_type": "stream",
     "text": [
      "What is the difference between supervised and unsupervised learning in machine learning?\n",
      "\n",
      "What are the two main objectives of modern-day machine learning?\n",
      "\n",
      "What is the main difference between machine learning and statistics?\n",
      "\n",
      "What is feature learning in machine learning, and what are its advantages?\n",
      "\n"
     ]
    }
   ],
   "source": [
    "quiz_table_data = []\n",
    "for key, value in quiz.items():\n",
    "    saq=value[\"saq\"] \n",
    "    \n",
    "    k=(value[\"expected_answer\"][\"key_points\"])\n",
    "    quiz_table_data.append({\"SAQ\": saq,  \"Answer\": k})"
   ]
  },
  {
   "cell_type": "code",
   "execution_count": 69,
   "metadata": {},
   "outputs": [
    {
     "data": {
      "text/plain": [
       "[{'MCQ': 'What is the difference between supervised and unsupervised learning in machine learning?',\n",
       "  'Correct': ['Supervised learning uses labeled data to train models, while unsupervised learning uses unlabeled data to find patterns.',\n",
       "   'Supervised learning focuses on prediction, while unsupervised learning focuses on discovering hidden structures in data.']},\n",
       " {'MCQ': 'What are the two main objectives of modern-day machine learning?',\n",
       "  'Correct': ['Classifying data based on developed models.',\n",
       "   'Making predictions for future outcomes based on these models.']},\n",
       " {'MCQ': 'What is the main difference between machine learning and statistics?',\n",
       "  'Correct': ['Statistics draws population inferences from a sample, while machine learning finds generalizable predictive patterns.']},\n",
       " {'MCQ': 'What is feature learning in machine learning, and what are its advantages?',\n",
       "  'Correct': ['Feature learning discovers better representations of input data, often as a pre-processing step.',\n",
       "   'It automates feature engineering, allowing machines to learn features and use them for specific tasks.']}]"
      ]
     },
     "execution_count": 69,
     "metadata": {},
     "output_type": "execute_result"
    }
   ],
   "source": [
    "quiz_table_data"
   ]
  },
  {
   "cell_type": "code",
   "execution_count": 71,
   "metadata": {},
   "outputs": [],
   "source": [
    "quiz=pd.DataFrame(quiz_table_data)"
   ]
  },
  {
   "cell_type": "code",
   "execution_count": 72,
   "metadata": {},
   "outputs": [],
   "source": [
    "quiz.to_csv(\"ml.csv\",index=False)"
   ]
  },
  {
   "cell_type": "code",
   "execution_count": null,
   "metadata": {},
   "outputs": [],
   "source": []
  }
 ],
 "metadata": {
  "kernelspec": {
   "display_name": "question",
   "language": "python",
   "name": "python3"
  },
  "language_info": {
   "codemirror_mode": {
    "name": "ipython",
    "version": 3
   },
   "file_extension": ".py",
   "mimetype": "text/x-python",
   "name": "python",
   "nbconvert_exporter": "python",
   "pygments_lexer": "ipython3",
   "version": "3.11.7"
  }
 },
 "nbformat": 4,
 "nbformat_minor": 2
}
